{
 "cells": [
  {
   "cell_type": "markdown",
   "metadata": {},
   "source": [
    "Dependency Inversion Principle (DIP)\n",
    "- The Dependency Inversion Principle is one of the SOLID principles of object-oriented design and is focused on decoupling high-level modules from low-level modules by introducing abstractions. It consists of two main rules:\n",
    "\n",
    "- High-level modules should not depend on low-level modules. Both should depend on abstractions.\n",
    "Abstractions should not depend on details. Details should depend on abstractions.\n",
    "\n",
    "- Source: https://en.wikipedia.org/wiki/Dependency_inversion_principle"
   ]
  },
  {
   "cell_type": "markdown",
   "metadata": {},
   "source": [
    "- Abstraction Usage: The Research class now relies on RelationshipBrowser, not on Relationships. This means Research doesn't need to know about the specific implementation details of Relationships, only the contract defined by RelationshipBrowser.\n",
    "\n",
    "- Flexibility and Decoupling: If a new class were created that also implements RelationshipBrowser, Research would still work without any modification. For example, if you had another implementation of RelationshipBrowser, Research could use it as long as it adheres to the find_all_children_of method.\n",
    "\n",
    "- Adherence to DIP: The refactored code adheres to the Dependency Inversion Principle by ensuring that both high-level and low-level modules depend on the abstraction (RelationshipBrowser) rather than on concrete implementations.\n",
    "\n",
    "- This approach helps in achieving better code flexibility, easier maintenance, and the ability to introduce new implementations of RelationshipBrowser without affecting the Research class."
   ]
  },
  {
   "cell_type": "code",
   "execution_count": 1,
   "metadata": {},
   "outputs": [
    {
     "name": "stdout",
     "output_type": "stream",
     "text": [
      "John has a child called Chris\n",
      "John has a child called Matt\n"
     ]
    },
    {
     "data": {
      "text/plain": [
       "<__main__.Research at 0x107b4b020>"
      ]
     },
     "execution_count": 1,
     "metadata": {},
     "output_type": "execute_result"
    }
   ],
   "source": [
    "from enum import Enum\n",
    "from abc import ABC, abstractmethod\n",
    "\n",
    "class Relationship(Enum):\n",
    "    PARENT = 0\n",
    "    CHILD = 1\n",
    "    SIBLING = 2\n",
    "    \n",
    "class Person:\n",
    "    def __init__(self, name):\n",
    "        self.name = name\n",
    "        \n",
    "class RelationshipBrowser(ABC):\n",
    "    @abstractmethod\n",
    "    def find_all_children_of(self, name): \n",
    "        pass\n",
    "    \n",
    "class Relationships(RelationshipBrowser): # low-level module\n",
    "    def __init__(self):\n",
    "        self.relations = []\n",
    "        \n",
    "    def add_parent_and_child(self, parent, child):\n",
    "        self.relations.append(\n",
    "            (parent, Relationship.PARENT, child)\n",
    "        )\n",
    "        self.relations.append(\n",
    "            (child, Relationship.PARENT, parent)\n",
    "        )\n",
    "        \n",
    "    def find_all_children_of(self, name):\n",
    "        for r in self.relations:\n",
    "            if r[0].name == name and r[1] == Relationship.PARENT:\n",
    "                yield r[2]\n",
    "        \n",
    "class Research: # high-level module\n",
    "    def __init__(self, browser: RelationshipBrowser):      \n",
    "        for p in browser.find_all_children_of('John'):\n",
    "            print(f'John has a child called {p.name}')\n",
    "\n",
    "# Creating objects and running the code\n",
    "parent = Person('John')\n",
    "child1 = Person('Chris')\n",
    "child2 = Person('Matt')\n",
    "\n",
    "relationships = Relationships()\n",
    "relationships.add_parent_and_child(parent, child1)\n",
    "relationships.add_parent_and_child(parent, child2)\n",
    "\n",
    "# Research is now using the RelationshipBrowser abstraction\n",
    "Research(relationships)\n"
   ]
  }
 ],
 "metadata": {
  "kernelspec": {
   "display_name": "venv",
   "language": "python",
   "name": "python3"
  },
  "language_info": {
   "codemirror_mode": {
    "name": "ipython",
    "version": 3
   },
   "file_extension": ".py",
   "mimetype": "text/x-python",
   "name": "python",
   "nbconvert_exporter": "python",
   "pygments_lexer": "ipython3",
   "version": "3.12.0"
  }
 },
 "nbformat": 4,
 "nbformat_minor": 2
}
