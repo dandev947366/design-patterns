{
 "cells": [
  {
   "cell_type": "markdown",
   "metadata": {},
   "source": [
    "The Liskov Substitution Principle (LSP)"
   ]
  },
  {
   "cell_type": "markdown",
   "metadata": {},
   "source": [
    "- https://en.wikipedia.org/wiki/Liskov_substitution_principle"
   ]
  },
  {
   "cell_type": "markdown",
   "metadata": {},
   "source": [
    "Liskov Substitution Principle (LSP) Summary:\n",
    "\n",
    "- Subtypes must be substitutable for their base types.\n",
    "- Derived classes must extend the functionality of the base class without changing the expected behavior."
   ]
  },
  {
   "cell_type": "markdown",
   "metadata": {},
   "source": [
    "Current Code Analysis:\n",
    "\n",
    "- Rectangle and Square Relationship:\n",
    "- The current design attempts to use inheritance to represent a Square as a subclass of Rectangle. This can lead to issues because the Square class modifies the behavior of Rectangle in a way that violates the LSP.\n",
    "\n",
    "Behavioral Problem:\n",
    "\n",
    "- The Square class overrides the width and height setters to ensure both dimensions are equal. However, this breaks the expectations set by the Rectangle class, where width and height can be set independently.\n",
    "- When using a Square in place of a Rectangle, the area calculation can yield unexpected results due to the enforced constraint of equal sides."
   ]
  },
  {
   "cell_type": "markdown",
   "metadata": {},
   "source": [
    "Output:\n",
    "Expected an area of 20. Got 20"
   ]
  },
  {
   "cell_type": "markdown",
   "metadata": {},
   "source": [
    "However, if you pass a Square instance to use_it, it will not behave as expected:"
   ]
  },
  {
   "cell_type": "markdown",
   "metadata": {},
   "source": [
    "Output:\n",
    "Expected an area of 50. Got 100\n"
   ]
  },
  {
   "cell_type": "markdown",
   "metadata": {},
   "source": [
    "This output demonstrates that the Square does not adhere to the Liskov Substitution Principle because substituting a Square for a Rectangle changes the behavior of the program."
   ]
  },
  {
   "cell_type": "code",
   "execution_count": 14,
   "metadata": {},
   "outputs": [
    {
     "name": "stdout",
     "output_type": "stream",
     "text": [
      "Expected an area of 20. Got 20\n",
      "Expected an area of 50. Got 100\n"
     ]
    }
   ],
   "source": [
    "class Rectangle:\n",
    "    def __init__(self, width, height):\n",
    "        self._height = height\n",
    "        self._width = width\n",
    "        \n",
    "    @property\n",
    "    def area(self):\n",
    "        return self._width * self._height\n",
    "        \n",
    "    def __str__(self):\n",
    "        return f'Width: {self.width}, height: {self.height}'\n",
    "    @property\n",
    "    def width(self):\n",
    "        return self._width\n",
    "    @width.setter\n",
    "    def width(self, value):\n",
    "        self._width = value\n",
    "    @property\n",
    "    def height(self):\n",
    "        return self._height\n",
    "    @height.setter\n",
    "    def height(self, value):\n",
    "        self._height = value\n",
    "        \n",
    "class Square(Rectangle):\n",
    "    def __init__(self, size):\n",
    "        Rectangle.__init__(self, size, size)\n",
    "    \n",
    "    @Rectangle.width.setter\n",
    "    def width(self, value):\n",
    "        self._width = self._height = value\n",
    "        \n",
    "    Rectangle.height.setter\n",
    "    def height(self, value):\n",
    "        self._width = self._height = value\n",
    "        \n",
    "        \n",
    "def use_it(rc):\n",
    "    w = rc.width\n",
    "    rc.height = 10\n",
    "    expected = int(w*10)\n",
    "    print(f'Expected an area of {expected}. got {rc.area}')\n",
    "    \n",
    "rc = Rectangle(2,3)\n",
    "use_it(rc)\n",
    "\n",
    "sq = Square(5)\n",
    "use_it(sq)\n",
    "    "
   ]
  }
 ],
 "metadata": {
  "kernelspec": {
   "display_name": "venv",
   "language": "python",
   "name": "python3"
  },
  "language_info": {
   "codemirror_mode": {
    "name": "ipython",
    "version": 3
   },
   "file_extension": ".py",
   "mimetype": "text/x-python",
   "name": "python",
   "nbconvert_exporter": "python",
   "pygments_lexer": "ipython3",
   "version": "3.12.0"
  }
 },
 "nbformat": 4,
 "nbformat_minor": 2
}
