{
 "cells": [
  {
   "cell_type": "markdown",
   "metadata": {},
   "source": [
    "The Interface Segregation Principle (ISP)"
   ]
  },
  {
   "cell_type": "markdown",
   "metadata": {},
   "source": [
    "https://en.wikipedia.org/wiki/Interface_segregation_principle"
   ]
  },
  {
   "cell_type": "markdown",
   "metadata": {},
   "source": [
    "Summary of the Interface Segregation Principle:\n",
    "\n",
    "- Split large interfaces into smaller, more specific ones.\n",
    "- Ensure that clients only have to implement interfaces that are relevant to them.\n",
    "- Avoid \"fat\" interfaces which encompass too many unrelated methods."
   ]
  },
  {
   "cell_type": "markdown",
   "metadata": {},
   "source": [
    "The Machine interface violates the ISP because it forces any class that implements it to provide print, fax, and scan methods, even if it might not need all of them."
   ]
  },
  {
   "cell_type": "code",
   "execution_count": 1,
   "metadata": {},
   "outputs": [],
   "source": [
    "class Machine:\n",
    "    def print(self, document):\n",
    "        raise NotImplementedError\n",
    "    def fax(self, document):\n",
    "        raise NotImplementedError\n",
    "    def scan(self, document):\n",
    "        raise NotImplementedError\n"
   ]
  },
  {
   "cell_type": "markdown",
   "metadata": {},
   "source": [
    "MultiFunctionPrinter implements all methods of Machine, which is fine, as it presumably supports all functionalities."
   ]
  },
  {
   "cell_type": "code",
   "execution_count": 6,
   "metadata": {},
   "outputs": [],
   "source": [
    "class MultiFunctionPrinter(Machine):\n",
    "    def print(self, document):\n",
    "        pass\n",
    "    def fax(self, document):\n",
    "        pass\n",
    "    def scan(self, document):\n",
    "        pass\n"
   ]
  },
  {
   "cell_type": "markdown",
   "metadata": {},
   "source": [
    "OldFashionedPrinter violates ISP by being forced to implement a scan method that it does not support. This is a direct result of the Machine interface being too broad."
   ]
  },
  {
   "cell_type": "code",
   "execution_count": 3,
   "metadata": {},
   "outputs": [],
   "source": [
    "class OldFashionedPrinter(Machine):\n",
    "    def print(self, document):\n",
    "        pass\n",
    "    def fax(self, document):\n",
    "        pass\n",
    "    def scan(self, document):\n",
    "        \"\"\"Not supported!\"\"\"\n",
    "        raise NotImplementedError('Printer cannot scan')\n"
   ]
  },
  {
   "cell_type": "markdown",
   "metadata": {},
   "source": [
    "To align with ISP, you should segregate the Machine interface into smaller, more specific interfaces:"
   ]
  },
  {
   "cell_type": "code",
   "execution_count": 7,
   "metadata": {},
   "outputs": [],
   "source": [
    "from abc import ABC, abstractmethod\n",
    "class Printer:\n",
    "    @abstractmethod\n",
    "    def print(self, document):\n",
    "        pass\n",
    "\n",
    "class Scanner:\n",
    "    @abstractmethod\n",
    "    def scan(self, document):\n",
    "        pass\n",
    "\n",
    "class Fax:\n",
    "    @abstractmethod\n",
    "    def fax(self, document):\n",
    "        pass\n"
   ]
  },
  {
   "cell_type": "markdown",
   "metadata": {},
   "source": [
    "With these changes:\n",
    "\n",
    "- MyPrinter only needs to implement the print method from Printer.\n",
    "- Photocopier implements both Printer and Scanner as it supports both functionalities.\n",
    "- MultiFunctionDevice is a more complex device supporting all functionalities (Printer, Scanner, Fax)."
   ]
  },
  {
   "cell_type": "code",
   "execution_count": 9,
   "metadata": {},
   "outputs": [],
   "source": [
    "class MultiFunctionDevice(Printer, Scanner, Fax):\n",
    "    @abstractmethod\n",
    "    def print(self, document):\n",
    "        pass\n",
    "\n",
    "    @abstractmethod\n",
    "    def scan(self, document):\n",
    "        pass\n",
    "\n",
    "    @abstractmethod\n",
    "    def fax(self, document):\n",
    "        pass"
   ]
  },
  {
   "cell_type": "code",
   "execution_count": 10,
   "metadata": {},
   "outputs": [],
   "source": [
    "class MultiFunctionMachine(MultiFunctionDevice):\n",
    "    def __init__(self, printer, scanner, fax):\n",
    "        self.printer = printer\n",
    "        self.scanner = scanner\n",
    "        self.fax = fax\n",
    "\n",
    "    def print(self, document):\n",
    "        self.printer.print(document)\n",
    "\n",
    "    def scan(self, document):\n",
    "        self.scanner.scan(document)\n",
    "\n",
    "    def fax(self, document):\n",
    "        self.fax.fax(document)\n"
   ]
  },
  {
   "cell_type": "markdown",
   "metadata": {},
   "source": [
    "Now, MultiFunctionMachine correctly uses composition to combine a Printer, Scanner, and Fax implementation, adhering to the ISP by only using the specific interfaces needed.\n",
    "\n",
    "By segregating the interfaces, your code now follows the Interface Segregation Principle, ensuring that classes only need to implement methods that they actually use, thereby increasing modularity and reducing unnecessary dependencies."
   ]
  },
  {
   "cell_type": "markdown",
   "metadata": {},
   "source": [
    "Refactored Code Following ISP:\n",
    "\n",
    "- To align with ISP, we need to segregate the Machine interface into smaller, more specific interfaces.\n",
    "\n",
    "- Abstract Base Classes and Methods:\n",
    "Import ABC and abstractmethod from the abc module.\n",
    "\n",
    "- Specific Interfaces:\n",
    "Create separate interfaces for Printer, Scanner, and Fax.\n",
    "\n"
   ]
  },
  {
   "cell_type": "code",
   "execution_count": 11,
   "metadata": {},
   "outputs": [],
   "source": [
    "from abc import ABC, abstractmethod\n",
    "\n",
    "# Specific interfaces for each functionality\n",
    "class Printer(ABC):\n",
    "    @abstractmethod\n",
    "    def print(self, document):\n",
    "        pass\n",
    "\n",
    "class Scanner(ABC):\n",
    "    @abstractmethod\n",
    "    def scan(self, document):\n",
    "        pass\n",
    "\n",
    "class Fax(ABC):\n",
    "    @abstractmethod\n",
    "    def fax(self, document):\n",
    "        pass\n",
    "\n",
    "# Implementing classes only implement the relevant interfaces\n",
    "class MyPrinter(Printer):\n",
    "    def print(self, document):\n",
    "        print(document)\n",
    "\n",
    "class Photocopier(Printer, Scanner):\n",
    "    def print(self, document):\n",
    "        pass\n",
    "\n",
    "    def scan(self, document):\n",
    "        pass\n",
    "\n",
    "# Composite device implementing multiple interfaces\n",
    "class MultiFunctionDevice(Printer, Scanner, Fax):\n",
    "    @abstractmethod\n",
    "    def print(self, document):\n",
    "        pass\n",
    "\n",
    "    @abstractmethod\n",
    "    def scan(self, document):\n",
    "        pass\n",
    "\n",
    "    @abstractmethod\n",
    "    def fax(self, document):\n",
    "        pass\n",
    "\n",
    "class MultiFunctionMachine(MultiFunctionDevice):\n",
    "    def __init__(self, printer, scanner, fax):\n",
    "        self.printer = printer\n",
    "        self.scanner = scanner\n",
    "        self.fax = fax\n",
    "\n",
    "    def print(self, document):\n",
    "        self.printer.print(document)\n",
    "\n",
    "    def scan(self, document):\n",
    "        self.scanner.scan(document)\n",
    "\n",
    "    def fax(self, document):\n",
    "        self.fax.fax(document)\n"
   ]
  }
 ],
 "metadata": {
  "kernelspec": {
   "display_name": "venv",
   "language": "python",
   "name": "python3"
  },
  "language_info": {
   "codemirror_mode": {
    "name": "ipython",
    "version": 3
   },
   "file_extension": ".py",
   "mimetype": "text/x-python",
   "name": "python",
   "nbconvert_exporter": "python",
   "pygments_lexer": "ipython3",
   "version": "3.12.0"
  }
 },
 "nbformat": 4,
 "nbformat_minor": 2
}
